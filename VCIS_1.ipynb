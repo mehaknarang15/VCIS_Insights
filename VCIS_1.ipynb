{
 "cells": [
  {
   "cell_type": "code",
   "execution_count": 1,
   "id": "ba9ba805-a1f2-4ee8-85f5-f39ccd444a78",
   "metadata": {},
   "outputs": [],
   "source": [
    "import numpy as np\n",
    "import pandas as pd\n",
    "import seaborn as sns\n",
    "import matplotlib.pyplot as plt\n",
    "%matplotlib inline"
   ]
  },
  {
   "cell_type": "code",
   "execution_count": 2,
   "id": "e125806c-6586-4beb-af3b-69a3b95da743",
   "metadata": {},
   "outputs": [],
   "source": [
    "file_path = '/Users/kushagraverma/Desktop/Kushagra Verma/VCIS Insights/VCIS Dataset.xlsx'\n",
    "\n",
    "df = pd.read_excel(file_path)"
   ]
  },
  {
   "cell_type": "code",
   "execution_count": 3,
   "id": "8d8f60e8-50e6-4cc9-9919-cfd3255824fd",
   "metadata": {},
   "outputs": [
    {
     "data": {
      "text/html": [
       "<div>\n",
       "<style scoped>\n",
       "    .dataframe tbody tr th:only-of-type {\n",
       "        vertical-align: middle;\n",
       "    }\n",
       "\n",
       "    .dataframe tbody tr th {\n",
       "        vertical-align: top;\n",
       "    }\n",
       "\n",
       "    .dataframe thead th {\n",
       "        text-align: right;\n",
       "    }\n",
       "</style>\n",
       "<table border=\"1\" class=\"dataframe\">\n",
       "  <thead>\n",
       "    <tr style=\"text-align: right;\">\n",
       "      <th></th>\n",
       "      <th>S.No.</th>\n",
       "      <th>Name of the Applicant</th>\n",
       "      <th>UG/ PG Program</th>\n",
       "      <th>College/ Department/ Centre</th>\n",
       "    </tr>\n",
       "  </thead>\n",
       "  <tbody>\n",
       "    <tr>\n",
       "      <th>0</th>\n",
       "      <td>1</td>\n",
       "      <td>Aabis Mehdi</td>\n",
       "      <td>B.A. (Hons.) History</td>\n",
       "      <td>Dyal Singh College</td>\n",
       "    </tr>\n",
       "    <tr>\n",
       "      <th>1</th>\n",
       "      <td>2</td>\n",
       "      <td>Aadhila Parveen</td>\n",
       "      <td>B.A Program</td>\n",
       "      <td>Vivekananda College</td>\n",
       "    </tr>\n",
       "    <tr>\n",
       "      <th>2</th>\n",
       "      <td>3</td>\n",
       "      <td>Aadi Lakshmi Giri</td>\n",
       "      <td>B.Sc. (Hons.) Computer Science</td>\n",
       "      <td>Shaheed Rajguru College of Applied Sciences fo...</td>\n",
       "    </tr>\n",
       "    <tr>\n",
       "      <th>3</th>\n",
       "      <td>4</td>\n",
       "      <td>Aaditya Kumar Bagri</td>\n",
       "      <td>B.Com (Hons.)</td>\n",
       "      <td>Shri Ram College of Commerce</td>\n",
       "    </tr>\n",
       "    <tr>\n",
       "      <th>4</th>\n",
       "      <td>5</td>\n",
       "      <td>Aadvika Patel</td>\n",
       "      <td>B.Sc. Programme Physical Sciences</td>\n",
       "      <td>Miranda House</td>\n",
       "    </tr>\n",
       "    <tr>\n",
       "      <th>...</th>\n",
       "      <td>...</td>\n",
       "      <td>...</td>\n",
       "      <td>...</td>\n",
       "      <td>...</td>\n",
       "    </tr>\n",
       "    <tr>\n",
       "      <th>2181</th>\n",
       "      <td>2182</td>\n",
       "      <td>Yuvraj Singh</td>\n",
       "      <td>B.Sc. (Hons.) Botany</td>\n",
       "      <td>Zakir Husain Delhi College</td>\n",
       "    </tr>\n",
       "    <tr>\n",
       "      <th>2182</th>\n",
       "      <td>2183</td>\n",
       "      <td>Yuvraj Tiwari</td>\n",
       "      <td>B.A Program</td>\n",
       "      <td>Shaheed Bhagat Singh College (Evening)</td>\n",
       "    </tr>\n",
       "    <tr>\n",
       "      <th>2183</th>\n",
       "      <td>2184</td>\n",
       "      <td>Zoya Hashmi</td>\n",
       "      <td>B.A. (Hons.) Political Science</td>\n",
       "      <td>Shyama Prasad Mukherji College for Women</td>\n",
       "    </tr>\n",
       "    <tr>\n",
       "      <th>2184</th>\n",
       "      <td>2185</td>\n",
       "      <td>Zoya Khan</td>\n",
       "      <td>B.Sc. (Hons.) Botany</td>\n",
       "      <td>Zakir Husain Delhi College</td>\n",
       "    </tr>\n",
       "    <tr>\n",
       "      <th>2185</th>\n",
       "      <td>2186</td>\n",
       "      <td>Zumra Irfan</td>\n",
       "      <td>B.Com (Hons.)</td>\n",
       "      <td>Ramanujan College</td>\n",
       "    </tr>\n",
       "  </tbody>\n",
       "</table>\n",
       "<p>2186 rows × 4 columns</p>\n",
       "</div>"
      ],
      "text/plain": [
       "      S.No. Name of the Applicant                     UG/ PG Program  \\\n",
       "0         1           Aabis Mehdi               B.A. (Hons.) History   \n",
       "1         2       Aadhila Parveen                        B.A Program   \n",
       "2         3     Aadi Lakshmi Giri     B.Sc. (Hons.) Computer Science   \n",
       "3         4   Aaditya Kumar Bagri                      B.Com (Hons.)   \n",
       "4         5         Aadvika Patel  B.Sc. Programme Physical Sciences   \n",
       "...     ...                   ...                                ...   \n",
       "2181   2182          Yuvraj Singh               B.Sc. (Hons.) Botany   \n",
       "2182   2183         Yuvraj Tiwari                        B.A Program   \n",
       "2183   2184           Zoya Hashmi     B.A. (Hons.) Political Science   \n",
       "2184   2185             Zoya Khan               B.Sc. (Hons.) Botany   \n",
       "2185   2186           Zumra Irfan                      B.Com (Hons.)   \n",
       "\n",
       "                            College/ Department/ Centre  \n",
       "0                                    Dyal Singh College  \n",
       "1                                   Vivekananda College  \n",
       "2     Shaheed Rajguru College of Applied Sciences fo...  \n",
       "3                          Shri Ram College of Commerce  \n",
       "4                                         Miranda House  \n",
       "...                                                 ...  \n",
       "2181                         Zakir Husain Delhi College  \n",
       "2182             Shaheed Bhagat Singh College (Evening)  \n",
       "2183           Shyama Prasad Mukherji College for Women  \n",
       "2184                         Zakir Husain Delhi College  \n",
       "2185                                  Ramanujan College  \n",
       "\n",
       "[2186 rows x 4 columns]"
      ]
     },
     "execution_count": 3,
     "metadata": {},
     "output_type": "execute_result"
    }
   ],
   "source": [
    "df"
   ]
  },
  {
   "cell_type": "markdown",
   "id": "8eed9821-6c2a-459c-977a-a8316bd0c174",
   "metadata": {},
   "source": [
    "### Data Cleaning"
   ]
  },
  {
   "cell_type": "code",
   "execution_count": 4,
   "id": "a13a0baf-0af1-4985-85ac-47d62bf2d172",
   "metadata": {},
   "outputs": [
    {
     "data": {
      "text/plain": [
       "S.No.                          0\n",
       "Name of the Applicant          0\n",
       "UG/ PG Program                 6\n",
       "College/ Department/ Centre    1\n",
       "dtype: int64"
      ]
     },
     "execution_count": 4,
     "metadata": {},
     "output_type": "execute_result"
    }
   ],
   "source": [
    "missing_values=df.isnull().sum()\n",
    "missing_values"
   ]
  },
  {
   "cell_type": "code",
   "execution_count": 5,
   "id": "c0542d81-55d7-46c4-a093-20743b43fae3",
   "metadata": {},
   "outputs": [],
   "source": [
    "df.dropna(inplace=True)"
   ]
  },
  {
   "cell_type": "code",
   "execution_count": 6,
   "id": "8f1494d3-cc24-4f58-a144-1866a072efc9",
   "metadata": {},
   "outputs": [
    {
     "data": {
      "text/plain": [
       "S.No.                          0\n",
       "Name of the Applicant          0\n",
       "UG/ PG Program                 0\n",
       "College/ Department/ Centre    0\n",
       "dtype: int64"
      ]
     },
     "execution_count": 6,
     "metadata": {},
     "output_type": "execute_result"
    }
   ],
   "source": [
    "df.isnull().sum()"
   ]
  },
  {
   "cell_type": "markdown",
   "id": "5514d860-8f81-43bd-bf73-ac1ddc7353b1",
   "metadata": {},
   "source": [
    "### Basic Information"
   ]
  },
  {
   "cell_type": "code",
   "execution_count": 7,
   "id": "36a6b7fc-74c5-4139-a215-3ffd00db809a",
   "metadata": {},
   "outputs": [
    {
     "name": "stdout",
     "output_type": "stream",
     "text": [
      "The Number of applicants are :  2179\n"
     ]
    }
   ],
   "source": [
    "Number_of_applicants= df.shape[0]\n",
    "print(\"The Number of applicants are : \",Number_of_applicants)"
   ]
  },
  {
   "cell_type": "code",
   "execution_count": 8,
   "id": "2227290b-08fb-40d3-9a43-a8e4b10ca068",
   "metadata": {},
   "outputs": [
    {
     "name": "stdout",
     "output_type": "stream",
     "text": [
      "The Number of Courses are :  68\n"
     ]
    }
   ],
   "source": [
    "Number_of_courses=df['UG/ PG Program'].nunique()\n",
    "print(\"The Number of Courses are : \",Number_of_courses)"
   ]
  },
  {
   "cell_type": "code",
   "execution_count": 9,
   "id": "0568ae1a-d600-4a61-af41-c8b8c0885e07",
   "metadata": {},
   "outputs": [
    {
     "name": "stdout",
     "output_type": "stream",
     "text": [
      "The Number of colleges are :  89\n"
     ]
    }
   ],
   "source": [
    "Number_of_colleges=df['College/ Department/ Centre'].nunique()\n",
    "print(\"The Number of colleges are : \",Number_of_colleges)"
   ]
  },
  {
   "cell_type": "markdown",
   "id": "7d8734a0-2ffc-4a36-a021-b190e5178be0",
   "metadata": {},
   "source": [
    "### Exploratory Data Analysis"
   ]
  },
  {
   "cell_type": "code",
   "execution_count": 10,
   "id": "09cfc5f7-7e80-4bf8-af1c-e9348bdddea0",
   "metadata": {},
   "outputs": [
    {
     "name": "stdout",
     "output_type": "stream",
     "text": [
      "Course Wise Distribution : \n"
     ]
    },
    {
     "data": {
      "text/plain": [
       "UG/ PG Program\n",
       "B.A Program                           308\n",
       "B.Com (Hons.)                         249\n",
       "B.A. (Hons.) Political Science        182\n",
       "B.Com                                 159\n",
       "B.Sc. (Hons.) Mathematics             120\n",
       "                                     ... \n",
       "B.Sc. (Hons.) Environmental Scienc      1\n",
       "M.Tech. (CAD/CAM)                       1\n",
       "M.A. Geography                          1\n",
       "B.A. (Hons.) Italian                    1\n",
       "B.A. (Hons.) Bengali                    1\n",
       "Name: count, Length: 68, dtype: int64"
      ]
     },
     "execution_count": 10,
     "metadata": {},
     "output_type": "execute_result"
    }
   ],
   "source": [
    "Course_wise_dist = df['UG/ PG Program'].value_counts()\n",
    "print(\"Course Wise Distribution : \")\n",
    "\n",
    "Course_wise_dist"
   ]
  },
  {
   "cell_type": "code",
   "execution_count": 11,
   "id": "b2be8ede-9fc9-4231-ac47-f132ed3ef01d",
   "metadata": {},
   "outputs": [
    {
     "name": "stdout",
     "output_type": "stream",
     "text": [
      "Course with the most applicants: B.A Program (308)\n"
     ]
    }
   ],
   "source": [
    "course_distribution = df['UG/ PG Program'].value_counts()\n",
    "top_course = course_distribution.idxmax()\n",
    "top_course_count = course_distribution.max()\n",
    "print(f\"Course with the most applicants: {top_course} ({top_course_count})\")"
   ]
  },
  {
   "cell_type": "code",
   "execution_count": 12,
   "id": "f1d58f88-1f19-4f59-b714-a41fe5c4fa96",
   "metadata": {},
   "outputs": [
    {
     "name": "stdout",
     "output_type": "stream",
     "text": [
      "Top 5 Courses : \n"
     ]
    },
    {
     "data": {
      "text/plain": [
       "UG/ PG Program\n",
       "B.A Program                       308\n",
       "B.Com (Hons.)                     249\n",
       "B.A. (Hons.) Political Science    182\n",
       "B.Com                             159\n",
       "B.Sc. (Hons.) Mathematics         120\n",
       "Name: count, dtype: int64"
      ]
     },
     "execution_count": 12,
     "metadata": {},
     "output_type": "execute_result"
    }
   ],
   "source": [
    "Course_wise_dist = df['UG/ PG Program'].value_counts()\n",
    "print(\"Top 5 Courses : \")\n",
    "Course_wise_dist.head(5)"
   ]
  },
  {
   "cell_type": "code",
   "execution_count": 13,
   "id": "44b28265-17ff-475b-a418-39e213593213",
   "metadata": {},
   "outputs": [
    {
     "name": "stdout",
     "output_type": "stream",
     "text": [
      "Course with the least applicants: Education (B.Ed.) (1)\n"
     ]
    }
   ],
   "source": [
    "course_distribution = df['UG/ PG Program'].value_counts()\n",
    "lowest_course = course_distribution.idxmin()\n",
    "lowest_course_count = course_distribution.min()\n",
    "print(f\"Course with the least applicants: {lowest_course} ({lowest_course_count})\")"
   ]
  },
  {
   "cell_type": "code",
   "execution_count": 14,
   "id": "ed334438-b9f3-4b12-92c1-5812de35737e",
   "metadata": {},
   "outputs": [
    {
     "name": "stdout",
     "output_type": "stream",
     "text": [
      "College Wise Distribution : \n"
     ]
    },
    {
     "data": {
      "text/plain": [
       "College/ Department/ Centre\n",
       "Daulat Ram College                   168\n",
       "Miranda House                        167\n",
       "Ramjas College                       124\n",
       "Hans Raj College                     121\n",
       "Kirori Mal College                   109\n",
       "                                    ... \n",
       "Department of Computer Science         1\n",
       "eRamanujan College                     1\n",
       "Department of Urdu                     1\n",
       "Department of Sociology                1\n",
       "School of Rehabilitation Sciences      1\n",
       "Name: count, Length: 89, dtype: int64"
      ]
     },
     "execution_count": 14,
     "metadata": {},
     "output_type": "execute_result"
    }
   ],
   "source": [
    "College_wise_dist = df['College/ Department/ Centre'].value_counts()\n",
    "print(\"College Wise Distribution : \")\n",
    "College_wise_dist"
   ]
  },
  {
   "cell_type": "code",
   "execution_count": 15,
   "id": "10cc2ebf-04dc-4c7a-8a1d-ca70ca56961a",
   "metadata": {},
   "outputs": [
    {
     "name": "stdout",
     "output_type": "stream",
     "text": [
      "College with the most applicants: Daulat Ram College (168)\n"
     ]
    }
   ],
   "source": [
    "college_distribution = df['College/ Department/ Centre'].value_counts()\n",
    "top_college = college_distribution.idxmax()\n",
    "top_college_count = college_distribution.max()\n",
    "print(f\"College with the most applicants: {top_college} ({top_college_count})\")"
   ]
  },
  {
   "cell_type": "code",
   "execution_count": 16,
   "id": "5aa52204-76b8-4e4a-b320-8807d0b02ca3",
   "metadata": {},
   "outputs": [
    {
     "name": "stdout",
     "output_type": "stream",
     "text": [
      "College with the least applicants: FoT (1)\n"
     ]
    }
   ],
   "source": [
    "college_distribution = df['College/ Department/ Centre'].value_counts()\n",
    "bottom_college = college_distribution.idxmin()\n",
    "bottom_college_count = college_distribution.min()\n",
    "print(f\"College with the least applicants: {bottom_college} ({bottom_college_count})\")\n"
   ]
  },
  {
   "cell_type": "code",
   "execution_count": 17,
   "id": "435bfe7b-73b0-4e84-ad41-bcff7d13eae3",
   "metadata": {},
   "outputs": [
    {
     "name": "stdout",
     "output_type": "stream",
     "text": [
      "Top 5 Colleges : \n"
     ]
    },
    {
     "data": {
      "text/plain": [
       "College/ Department/ Centre\n",
       "Daulat Ram College    168\n",
       "Miranda House         167\n",
       "Ramjas College        124\n",
       "Hans Raj College      121\n",
       "Kirori Mal College    109\n",
       "Name: count, dtype: int64"
      ]
     },
     "execution_count": 17,
     "metadata": {},
     "output_type": "execute_result"
    }
   ],
   "source": [
    "College_wise_dist = df['College/ Department/ Centre'].value_counts()\n",
    "print(\"Top 5 Colleges : \")\n",
    "College_wise_dist.head(5)"
   ]
  },
  {
   "cell_type": "code",
   "execution_count": 32,
   "id": "3c5498f5-9bd9-4482-8fd1-d50f2560f29c",
   "metadata": {},
   "outputs": [
    {
     "name": "stdout",
     "output_type": "stream",
     "text": [
      "                         UG/ PG Program  \\\n",
      "0    AB.Sc. Programme Physical Sciences   \n",
      "6                             Any other   \n",
      "14                   B. Tech. (IT & MI)   \n",
      "15                    B.A (Hons) German   \n",
      "22                B.A (Hons.) Economics   \n",
      "..                                  ...   \n",
      "536                      M.Sc.Chemistry   \n",
      "537                   M.Tech. (CAD/CAM)   \n",
      "538                      SB.Com (Hons.)   \n",
      "539                        TB.A Program   \n",
      "540            mB.Sc. (Hons.) Chemistry   \n",
      "\n",
      "                  College/ Department/ Centre  Applicant Count  \n",
      "0                             Shivaji College                1  \n",
      "6                 Deshbandhu College(Morning)                2  \n",
      "14                  Cluster Innovation Centre               13  \n",
      "15   Department of Germanic & Romance Studies                4  \n",
      "22                           Hans Raj College               10  \n",
      "..                                        ...              ...  \n",
      "536                   Department of Chemistry                3  \n",
      "537            Department of Computer Science                1  \n",
      "538                           Shivaji College                1  \n",
      "539          Delhi College of Arts & Commerce                1  \n",
      "540                             Miranda House                1  \n",
      "\n",
      "[68 rows x 3 columns]\n"
     ]
    }
   ],
   "source": [
    "course_college = df.groupby(['UG/ PG Program', 'College/ Department/ Centre']).size().reset_index(name='Applicant Count')\n",
    "\n",
    "most_applicants_per_course = course_college.loc[course_college.groupby('UG/ PG Program')['Applicant Count'].idxmax()]\n",
    "\n",
    "print(most_applicants_per_course)"
   ]
  },
  {
   "cell_type": "code",
   "execution_count": 33,
   "id": "20e7d694-7fc7-4a26-88d4-ea80a8351cf1",
   "metadata": {},
   "outputs": [
    {
     "name": "stdout",
     "output_type": "stream",
     "text": [
      "                    College/ Department/ Centre  \\\n",
      "4                  Acharya Narendra Dev College   \n",
      "2                  Acharya Narendra Dev College   \n",
      "6                  Acharya Narendra Dev College   \n",
      "0                  Acharya Narendra Dev College   \n",
      "3                  Acharya Narendra Dev College   \n",
      "..                                          ...   \n",
      "536  Zakir Husain Post Graduate Evening College   \n",
      "538  Zakir Husain Post Graduate Evening College   \n",
      "537  Zakir Husain Post Graduate Evening College   \n",
      "539  Zakir Husain Post Graduate Evening College   \n",
      "540                          eRamanujan College   \n",
      "\n",
      "                         UG/ PG Program  Applicant Count  \n",
      "4                 B.Sc. (Hons.) Zoology               12  \n",
      "2        B.Sc. (Hons.) Computer Science                5  \n",
      "6     B.Sc. Programme Physical Sciences                5  \n",
      "0       B.Sc (Hons.) Biomedical Science                3  \n",
      "3             B.Sc. (Hons.) Mathematics                3  \n",
      "..                                  ...              ...  \n",
      "536                         B.A Program                4  \n",
      "538      B.A. (Hons.) Political Science                2  \n",
      "537                B.A. (Hons.) English                1  \n",
      "539                               B.Com                1  \n",
      "540  B.Sc. (Hons.) Environmental Scienc                1  \n",
      "\n",
      "[541 rows x 3 columns]\n"
     ]
    }
   ],
   "source": [
    "college_course_popularity = df.groupby(['College/ Department/ Centre', 'UG/ PG Program']).size().reset_index(name='Applicant Count')\n",
    "\n",
    "\n",
    "college_course_popularity = college_course_popularity.sort_values(by=['College/ Department/ Centre', 'Applicant Count'], ascending=[True, False])\n",
    "\n",
    "print(college_course_popularity)"
   ]
  },
  {
   "cell_type": "code",
   "execution_count": 32,
   "id": "a48e0cf1-c909-4226-8e6e-8447a5a645bd",
   "metadata": {},
   "outputs": [],
   "source": [
    "cleaned_data=df.to_excel('C:/Users/Hp/Desktop/cleaned_data.xlsx',index=False)"
   ]
  }
 ],
 "metadata": {
  "kernelspec": {
   "display_name": "Python 3 (ipykernel)",
   "language": "python",
   "name": "python3"
  },
  "language_info": {
   "codemirror_mode": {
    "name": "ipython",
    "version": 3
   },
   "file_extension": ".py",
   "mimetype": "text/x-python",
   "name": "python",
   "nbconvert_exporter": "python",
   "pygments_lexer": "ipython3",
   "version": "3.12.3"
  }
 },
 "nbformat": 4,
 "nbformat_minor": 5
}
